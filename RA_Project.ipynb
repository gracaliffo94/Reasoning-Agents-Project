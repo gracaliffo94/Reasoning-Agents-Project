{
  "nbformat": 4,
  "nbformat_minor": 0,
  "metadata": {
    "colab": {
      "name": "RA-Project.ipynb",
      "provenance": [],
      "collapsed_sections": [],
      "toc_visible": true
    },
    "kernelspec": {
      "display_name": "Python 3",
      "name": "python3"
    },
    "language_info": {
      "name": "python"
    }
  },
  "cells": [
    {
      "cell_type": "markdown",
      "metadata": {
        "id": "A5agLBWWnj8I"
      },
      "source": [
        "# RA Project"
      ]
    },
    {
      "cell_type": "markdown",
      "metadata": {
        "id": "5Gpodg0EnEMr"
      },
      "source": [
        "## Setup"
      ]
    },
    {
      "cell_type": "code",
      "metadata": {
        "colab": {
          "base_uri": "https://localhost:8080/"
        },
        "id": "-NaACq-McKc1",
        "outputId": "420803bc-e542-4645-d9cb-e734bbab92fd"
      },
      "source": [
        "from google.colab import drive\n",
        "drive.mount('/content/drive')\n",
        "path = '/content/drive/MyDrive/AIRO/EAI/RA/RAProject' # Francesco\n",
        "#path = '/content/drive/MyDrive/RAProject' # Kevin\n",
        "!ln -s $path /mydrive \n",
        "%cd /mydrive/nonmarkov-envs\n",
        "#!pip install . >/dev/null\n",
        "#!pip install graphviz\n",
        "\n",
        "from nonmarkov_envs.rdp_env import RDPEnv\n",
        "from nonmarkov_envs.specs.rotating_mab import RotatingMAB\n",
        "from nonmarkov_envs.specs.rotating_maze import RotatingMaze\n",
        "from nonmarkov_envs.specs.enemy_corridor import EnemyCorridor\n",
        "from collections import defaultdict, Counter\n",
        "import numpy as np, operator, math, random, graphviz"
      ],
      "execution_count": 1,
      "outputs": [
        {
          "output_type": "stream",
          "name": "stdout",
          "text": [
            "Mounted at /content/drive\n",
            "/content/drive/MyDrive/AIRO/EAI/RA/RAProject/nonmarkov-envs\n"
          ]
        }
      ]
    },
    {
      "cell_type": "markdown",
      "metadata": {
        "id": "aXfo63SEnIGq"
      },
      "source": [
        "## Environment"
      ]
    },
    {
      "cell_type": "markdown",
      "metadata": {
        "id": "vVmutQezGeqr"
      },
      "source": [
        "### Initialization"
      ]
    },
    {
      "cell_type": "code",
      "metadata": {
        "colab": {
          "base_uri": "https://localhost:8080/"
        },
        "id": "xxf8JKpSdB8T",
        "outputId": "922f20af-b793-4533-9a95-ef15240a53c1"
      },
      "source": [
        "#env_spec = RotatingMAB()\n",
        "#env_spec = RotatingMaze()\n",
        "env_spec = EnemyCorridor()\n",
        "\n",
        "print(\"\\n States: \", env_spec.STATES)\n",
        "print(\"\\n Actions: \", env_spec.ACTIONS)\n",
        "print(\"\\n Observations: \", env_spec.OBSERVATIONS)\n",
        "print(\"\\n Rewards: \", env_spec.REWARDS)\n",
        "print(\"\\n Transition function: \", env_spec.tau)\n",
        "print(\"\\n Reward function: \", env_spec.theta)\n",
        "print(\"\\n Initial state: \", env_spec.initial_state)\n",
        "print(\"\\n Terminal states: \", env_spec.terminal_states)\n",
        "\n",
        "env = RDPEnv(env_spec, markovian=False, stop_prob=0.01, episode_length=100)\n",
        "env.reset()\n",
        "\n",
        "print('\\n #########################################')\n",
        "\n",
        "print(\"\\n Simulation ->\")\n",
        "for step in range(15):\n",
        "    a = env.action_space.sample() # take action from sample space\n",
        "    o, r, d, i = env.step(a) # step function returns: observation, reward, done, info\n",
        "    print(\"\\nstep\"+str(step)+\": \", a, o, r, d, i)\n",
        "    if d: break\n",
        "\n",
        "print('\\n #########################################')\n",
        "\n",
        "n_hat = len(env_spec.tau)\n",
        "initial_state = env.specification.initial_state\n",
        "actions = env_spec.ACTIONS\n",
        "print('\\n Upper Bound on transducer states: {}'.format(n_hat))"
      ],
      "execution_count": 2,
      "outputs": [
        {
          "output_type": "stream",
          "name": "stdout",
          "text": [
            "\n",
            " States:  {(0, 1), (0, 0), (3, 0), (3, 1), (2, 1), (2, 0), (1, 0), (1, 1)}\n",
            "\n",
            " Actions:  {0, 1}\n",
            "\n",
            " Observations:  {(0, 1), (0, 0), (3, 0), (3, 1), (2, 1), (2, 0), (1, 0), (1, 1)}\n",
            "\n",
            " Rewards:  {0, 100}\n",
            "\n",
            " Transition function:  {(0, 1): {(1, 0): (1, 1), (1, 1): (1, 0)}, (0, 0): {(1, 0): (1, 0), (1, 1): (1, 1)}, (3, 0): {(0, 1): (0, 1), (0, 0): (0, 0)}, (3, 1): {(0, 1): (0, 0), (0, 0): (0, 1)}, (2, 1): {(3, 0): (3, 1), (3, 1): (3, 0)}, (2, 0): {(3, 0): (3, 0), (3, 1): (3, 1)}, (1, 0): {(2, 1): (2, 1), (2, 0): (2, 0)}, (1, 1): {(2, 1): (2, 0), (2, 0): (2, 1)}}\n",
            "\n",
            " Reward function:  {(0, 1): {0: {(1, 0): {100: 0.6}, (1, 1): {0: 0.4}}, 1: {(1, 0): {100: 0.4}, (1, 1): {0: 0.6}}}, (0, 0): {0: {(1, 0): {100: 0.4}, (1, 1): {0: 0.6}}, 1: {(1, 0): {100: 0.6}, (1, 1): {0: 0.4}}}, (3, 0): {0: {(0, 1): {0: 0.6}, (0, 0): {100: 0.4}}, 1: {(0, 1): {0: 0.4}, (0, 0): {100: 0.6}}}, (3, 1): {0: {(0, 1): {0: 0.4}, (0, 0): {100: 0.6}}, 1: {(0, 1): {0: 0.6}, (0, 0): {100: 0.4}}}, (2, 1): {0: {(3, 0): {100: 0.9}, (3, 1): {0: 0.09999999999999998}}, 1: {(3, 0): {100: 0.09999999999999998}, (3, 1): {0: 0.9}}}, (2, 0): {0: {(3, 0): {100: 0.09999999999999998}, (3, 1): {0: 0.9}}, 1: {(3, 0): {100: 0.9}, (3, 1): {0: 0.09999999999999998}}}, (1, 0): {0: {(2, 1): {0: 0.9}, (2, 0): {100: 0.09999999999999998}}, 1: {(2, 1): {0: 0.09999999999999998}, (2, 0): {100: 0.9}}}, (1, 1): {0: {(2, 1): {0: 0.09999999999999998}, (2, 0): {100: 0.9}}, 1: {(2, 1): {0: 0.9}, (2, 0): {100: 0.09999999999999998}}}}\n",
            "\n",
            " Initial state:  (0, 0)\n",
            "\n",
            " Terminal states:  set()\n",
            "\n",
            " #########################################\n",
            "\n",
            " Simulation ->\n",
            "\n",
            "step0:  0 (1, 0) 100 False {'prob': 0.4, 'terminal_state': False}\n",
            "\n",
            "step1:  1 (2, 0) 100 False {'prob': 0.9, 'terminal_state': False}\n",
            "\n",
            "step2:  0 (3, 1) 0 False {'prob': 0.9, 'terminal_state': False}\n",
            "\n",
            "step3:  0 (0, 0) 100 False {'prob': 0.6, 'terminal_state': False}\n",
            "\n",
            "step4:  1 (1, 1) 0 False {'prob': 0.6, 'terminal_state': False}\n",
            "\n",
            "step5:  0 (2, 1) 0 False {'prob': 0.9, 'terminal_state': False}\n",
            "\n",
            "step6:  1 (3, 1) 0 False {'prob': 0.9, 'terminal_state': False}\n",
            "\n",
            "step7:  0 (0, 1) 0 False {'prob': 0.6, 'terminal_state': False}\n",
            "\n",
            "step8:  0 (1, 0) 100 False {'prob': 0.6, 'terminal_state': False}\n",
            "\n",
            "step9:  1 (2, 0) 100 False {'prob': 0.09999999999999998, 'terminal_state': False}\n",
            "\n",
            "step10:  0 (3, 1) 0 False {'prob': 0.09999999999999998, 'terminal_state': False}\n",
            "\n",
            "step11:  1 (0, 0) 100 False {'prob': 0.6, 'terminal_state': False}\n",
            "\n",
            "step12:  0 (1, 0) 100 False {'prob': 0.4, 'terminal_state': False}\n",
            "\n",
            "step13:  0 (2, 0) 100 False {'prob': 0.09999999999999998, 'terminal_state': False}\n",
            "\n",
            "step14:  0 (3, 1) 0 False {'prob': 0.9, 'terminal_state': False}\n",
            "\n",
            " #########################################\n",
            "\n",
            " Upper Bound on transducer states: 8\n"
          ]
        }
      ]
    },
    {
      "cell_type": "markdown",
      "metadata": {
        "id": "f6KjF6uDna_r"
      },
      "source": [
        "## Algorithm"
      ]
    },
    {
      "cell_type": "markdown",
      "metadata": {
        "id": "x2hbohDCnLL9"
      },
      "source": [
        "### Preliminaries"
      ]
    },
    {
      "cell_type": "markdown",
      "metadata": {
        "id": "fVxXM3bae_eo"
      },
      "source": [
        "#### Sampling"
      ]
    },
    {
      "cell_type": "code",
      "metadata": {
        "id": "OHtzSOWVxY8V"
      },
      "source": [
        "# return with a certain probability p the stop action and 1-p an action\n",
        "def exploration_policy(env_spec, p_stop):\n",
        "  actions = list(env_spec.ACTIONS)\n",
        "  if p_stop:\n",
        "    len_A = len(actions)\n",
        "    actions += ['$'] # stop action\n",
        "    p_action = (1-p_stop)/len_A\n",
        "    return np.random.choice(actions, p=[p_action]*len_A+[p_stop])\n",
        "  else:\n",
        "    return np.random.choice(actions)\n",
        "\n",
        "# generate a random episode until stop\n",
        "def generate_episode(env, p_stop=None):\n",
        "  # x: single episode\n",
        "  env.reset()\n",
        "  x = []\n",
        "  while True:\n",
        "    action = exploration_policy(env.specification, p_stop)\n",
        "    if action == '$': \n",
        "      print('1ui')\n",
        "      x.append(action)\n",
        "      break\n",
        "    a = int(action)\n",
        "    o, r, d, _ = env.step(a)\n",
        "    x.append(str(a)+str(o)+str(r))\n",
        "    if d:\n",
        "      x.append('$')\n",
        "      break\n",
        "  return x\n",
        " \n",
        "# generate N examples i.i.d. from target PDFA\n",
        "def draw_sample(env, N, p_stop=None, S=None):\n",
        "  symbols = read_symbols(env.specification)\n",
        "  mapping = symbol_mapping(symbols)\n",
        "  S = [] if S is None else S\n",
        "  for i in range(N):\n",
        "    s = ''\n",
        "    x = generate_episode(env, p_stop)\n",
        "    for sym in x:\n",
        "      s += mapping[sym]\n",
        "    S.append(s)\n",
        "  return S, mapping\n",
        "\n",
        "def read_alphabet(S):\n",
        "  alphabet = set()\n",
        "  for episode in S:\n",
        "    for s in episode[:-1]:\n",
        "      alphabet.add(s)\n",
        "  return alphabet\n",
        "\n",
        "# return the set of possible symbols\n",
        "def read_symbols(env_spec):\n",
        "  theta = env_spec.theta\n",
        "  symbols = set()\n",
        "  for k in theta:\n",
        "    for a in theta[k]:\n",
        "      for o in theta[k][a]:\n",
        "        for r in theta[k][a][o]:\n",
        "          sym = str(a) + str(o) + str(r)\n",
        "          symbols.add(sym)\n",
        "  return symbols\n",
        "\n",
        "def symbol_mapping(symbols):\n",
        "  if isinstance(symbols, set):\n",
        "    symbols = list(symbols)\n",
        "  d = {str(symbols[i-66]):chr(i) for i in range(66, 66 + len(symbols))}\n",
        "  d.update({'$': '$'})\n",
        "  return d"
      ],
      "execution_count": 3,
      "outputs": []
    },
    {
      "cell_type": "markdown",
      "metadata": {
        "id": "4C8AgW4LfH3T"
      },
      "source": [
        "#### AdaCT Helpers"
      ]
    },
    {
      "cell_type": "code",
      "metadata": {
        "id": "aJsgcovbnPR3"
      },
      "source": [
        "######## FUNCTIONS ########\n",
        "\n",
        "from itertools import combinations, product\n",
        "def pairs(*lists):\n",
        "  for t in combinations(lists, 2):\n",
        "    for pair in product(*t):\n",
        "      yield pair\n",
        "\n",
        "def prefixes(m):\n",
        "    return [s[:i] for s in m for i in range(len(s))]\n",
        "\n",
        "def multiplicity(w, m):\n",
        "  return sum(1 if s == w else 0 for s in m)\n",
        "\n",
        "def supremum_distance(u, v, m_u, m_v):\n",
        "  multiplicity_u = Counter(u)\n",
        "  multiplicity_v = Counter(v)\n",
        "  return max(abs(multiplicity_u[s]/m_u - multiplicity_v[s]/m_v) for s in (u + v))\n",
        "\n",
        "def pref_supremum_distance(pref_u, pref_v, m_u, m_v):\n",
        "  multiplicity_pu = Counter(pref_u)\n",
        "  multiplicity_pv = Counter(pref_v)\n",
        "  return max(abs(multiplicity_pu[s]/m_u - multiplicity_pv[s]/m_v) for s in (pref_u + pref_v))\n",
        "\n",
        "def test_distinct(u, v, sigma, delta, n):\n",
        "  pref_u, pref_v = prefixes(u), prefixes(v)\n",
        "  m_u, s_u = len(u), len(pref_u)\n",
        "  m_v, s_v = len(v), len(pref_v)\n",
        "  delta_0 = delta/(n*(n*len(sigma) + len(sigma) + 1))\n",
        "  t_uv = math.sqrt( (2/min(m_u, m_v)) * math.log(8*(s_u + s_v)/delta_0) )\n",
        "  d = max(supremum_distance(u, v, m_u, m_v), pref_supremum_distance(pref_u, pref_v, m_u, m_v))\n",
        "  if d > t_uv:\n",
        "    return 'Distinct'\n",
        "  else:\n",
        "    return 'Not Clear'\n",
        "\n",
        "######## CLASSES ########\n",
        "\n",
        "class Symbol:\n",
        "  def __init__(self, action: str, state: tuple, reward: int):\n",
        "    self.action = action \n",
        "    self.state = state\n",
        "    self.reward = reward\n",
        "\n",
        "  def __repr__(self):\n",
        "    return str(self)\n",
        "\n",
        "  def __str__(self):\n",
        "    return str(self.action) + str(self.state) + str(self.reward)\n",
        "\n",
        "  def __eq__(self, other):\n",
        "    if isinstance(other, Symbol):\n",
        "      return self.action == other.action and self.state == other.state and self.reward == other.reward\n",
        "    return False\n",
        "\n",
        "  def __hash__(self):\n",
        "    return hash(str(self))\n",
        "\n",
        "  @staticmethod\n",
        "  def from_str(sym):\n",
        "    a = sym[:sym.find('(')]\n",
        "    s = sym[sym.find('(')+1:sym.find(')')].split(',')\n",
        "    s = tuple([int(ss) for ss in s if ss != ''])\n",
        "    r = int(sym[sym.find(')')+1:])\n",
        "    return Symbol(a, s, r)\n",
        "\n",
        "\n",
        "class Node:\n",
        "  def __init__(self, multiset=None, edges=None):\n",
        "    self.multiset =  multiset if multiset else []\n",
        "    self.edges = edges if edges else {}\n",
        "\n",
        "  def __repr__(self):\n",
        "    return 'Edges -> ' + str(self.edges) + ' Multiset length = ' + str(len(self.multiset))\n",
        "\n",
        "  def __gt__(self, other):\n",
        "    s, o = len(self.multiset), len(other.multiset)\n",
        "    if s == o and s == 1:\n",
        "      return len(self.multiset[0]) > len(other.multiset[0])\n",
        "    else: \n",
        "      return s > o\n",
        "\n",
        "  def copy(self):\n",
        "    return Node(self.multiset.copy(), self.edges.copy())\n",
        "\n",
        "\n",
        "class Graph:\n",
        "  def __init__(self):\n",
        "    self.graph = defaultdict(Node)\n",
        "\n",
        "  def __getitem__(self, key):\n",
        "    return self.graph[key]\n",
        "\n",
        "  def __setitem__(self, key, node):\n",
        "    self.graph[key] = node\n",
        "\n",
        "  def __delitem__(self, key):\n",
        "    del self.graph[key]\n",
        "\n",
        "  def __contains__(self, key):\n",
        "    return key in self.nodes()\n",
        "\n",
        "  def __len__(self):\n",
        "    return len(self.graph)\n",
        "\n",
        "  def __iter__(self):\n",
        "    return iter(k for k in self.graph.keys())\n",
        "\n",
        "  def __index__(self, index):\n",
        "    return self.graph.keys()[index]\n",
        "\n",
        "  def __str__(self):\n",
        "    return 'Graph' + str(self.nodes())\n",
        "\n",
        "  def __repr__(self):\n",
        "    ret = str(self) + '\\n'\n",
        "    for node in self.nodes():\n",
        "      ret += '  Node {:<10}'.format(node) +str(self.graph[node]) + '\\n'\n",
        "    return ret\n",
        "\n",
        "  def nodes(self):\n",
        "    return [k for k in self.graph.keys()]\n",
        "\n",
        "  def start_node(self):\n",
        "    return self.nodes()[0]\n",
        "\n",
        "  def view(self, env, sym_map, save=None):\n",
        "    # graph\n",
        "    g = graphviz.Digraph('pdfa', format='png')\n",
        "    inv_sym_map = {v:k for k,v in sym_map.items()}\n",
        "\n",
        "    for n in self.nodes():\n",
        "      if n == self.start_node():\n",
        "        g.attr('node', shape='doublecircle')\n",
        "        g.node(n)    \n",
        "        g.attr('node', shape='circle')\n",
        "      g.node(n[-1])\n",
        "\n",
        "    for n in self.nodes():\n",
        "      for sym, next_state in self[n].edges.items():\n",
        "        g.edge(n[-1], next_state[-1], label=inv_sym_map[sym])\n",
        "    \n",
        "    if save != None:\n",
        "      g.render(filename='../graph/'+type(env.specification).__name__+'_'+save+'.pdfa.gv')\n",
        "    return g"
      ],
      "execution_count": 4,
      "outputs": []
    },
    {
      "cell_type": "markdown",
      "metadata": {
        "id": "UhxCVkoiEBPC"
      },
      "source": [
        "#### MDP"
      ]
    },
    {
      "cell_type": "code",
      "metadata": {
        "id": "7qNnmI2KwxPG"
      },
      "source": [
        "######## FUNCTIONS ########\n",
        "\n",
        "def probability(sym, m):\n",
        "  return multiplicity(sym, prefixes(m))/len(m)\n",
        "\n",
        "def max_reward(alphabet, sym_map):\n",
        "  inv_map = {v:k for k,v in sym_map.items()}\n",
        "  return max(Symbol.from_str(inv_map[s]).reward for s in alphabet)\n",
        "  \n",
        "def policy_episode(env, t, pi, steps):\n",
        "  env.reset()\n",
        "  count = 0\n",
        "  s = (0,)\n",
        "  x = []\n",
        "  for i in range(steps):\n",
        "    a = pi[s]\n",
        "    o, r, d, _ = env.step(a)\n",
        "    x.append([a, o, r])\n",
        "    if d: break\n",
        "    s = t[s][o]\n",
        "    count += 1\n",
        "  return x, i+1\n",
        "\n",
        "######## CLASSES ########\n",
        "\n",
        "class MDP:\n",
        "  def __init__(self, A, Q, R, T, S, gamma, p_stop, m, sym_map):\n",
        "    self.A = A # actions\n",
        "    self.Q = Q # states\n",
        "    self.R = R # rewards\n",
        "    self.T = T # transition function\n",
        "    self.S = S # observation\n",
        "    self.gamma = gamma # discount factor\n",
        "    self.D = self._compute_dynamics(p_stop, m, sym_map) # dynamics function\n",
        "    #self.q_0 = q_0 # initial state\n",
        "\n",
        "  def _compute_dynamics(self, p_stop, m, sym_map):\n",
        "    dynamics = {} #{state: {action : {next state : {reward : prob}}}}\n",
        "    for q1 in self.Q:\n",
        "      dynamics[q1] = {}\n",
        "      for a in self.A: \n",
        "        dynamics[q1][a] = {}\n",
        "        for q2 in self.Q: \n",
        "          dynamics[q1][a][q2] = {} \n",
        "          for r in self.R:\n",
        "            # transitions q1 -axr-> q2\n",
        "            l = [asr for asr,t in self.T[q1].items() if t == q2 and asr.action == str(a) and asr.reward == r]\n",
        "            # sum of probabilities\n",
        "            dynamics[q1][a][q2][r] = (len(self.A)/(1-p_stop))*sum(probability(sym_map[str(asr)], m[q1]) for asr in l)\n",
        "      \n",
        "    return dynamics\n",
        "  \n",
        "  def value_iteration(self, m):\n",
        "    pi, V = {q:0 for q in self.Q}, [{q:0 for q in self.Q} for i in range(m)]\n",
        " \n",
        "    for k in range(1, m):\n",
        "      for q1 in self.Q:\n",
        "          V[k][q1] = max(sum(self.D[q1][a][q2][r] * (r + self.gamma * V[k-1][q2]) \n",
        "                                for q2 in self.Q for r in self.R) for a in self.A)\n",
        "\n",
        "    for q1 in self.Q:      \n",
        "      pi[q1] = np.argmax([sum(self.D[q1][a][q2][r] * (r + self.gamma * V[k][q2]) \n",
        "                              for q2 in self.Q for r in self.R) for a in self.A])\n",
        "    \n",
        "    return pi, V\n",
        "\n",
        "  def transducer(self):\n",
        "    tau = {}\n",
        "    for q in self.Q:\n",
        "      tau[q] = {}\n",
        "      for s in self.S:\n",
        "        rand = [asr for asr in self.T[q] if asr.state == s]\n",
        "        if len(rand) > 0:\n",
        "          asr = np.random.choice(rand)\n",
        "          tau[q][s] = self.T[q][asr]\n",
        "    return tau\n",
        "\n",
        "  def print_dynamics(self, ret=False):\n",
        "      res = \"\"\n",
        "      for q1 in self.Q:\n",
        "        res += \"Dynamics of the state {}\\n\".format(q1)\n",
        "        for a in self.A:\n",
        "          for q2 in self.Q:\n",
        "            for r in self.R:\n",
        "              if self.D[q1][a][q2][r] > 0:\n",
        "                res += \"Action {} Next state {} Probability {}\\n\".format(a, q2, self.D[q1][a][q2])\n",
        "        res += \"\\n\"\n",
        "      return res if ret else print(res)\n",
        "\n",
        "  def __repr__(self):\n",
        "    repr = \"MDP Configuration\\n\"\n",
        "    repr += \"States: {}\\n\".format(self.Q)\n",
        "    repr += \"Actions: {}\\n\".format(self.A)\n",
        "    repr += \"Rewards: {}\\n\".format(self.R)\n",
        "    repr += \"Gamma: {}\\n\".format(self.gamma)\n",
        "    repr += \"\\nDynamics function:\\n\"\n",
        "    repr += self.print_dynamics(True)\n",
        "    return repr\n",
        "\n",
        "  @staticmethod\n",
        "  def compute_mdp(pdfa, alphabet, actions, gamma, p_stop, sym_map):\n",
        "    inv_sym_map = {v:k for k,v in sym_map.items()}\n",
        "    state_map = {n:(i,) for i,n in enumerate(pdfa.nodes())}\n",
        "    states = set([s for s in state_map.values()])\n",
        "    multisets = {state_map[n]:pdfa[n].multiset for n in pdfa}\n",
        "    rewards = set([Symbol.from_str(inv_sym_map[a]).reward for a in alphabet])\n",
        "    observations = {Symbol.from_str(inv_sym_map[a]).state for a in alphabet}\n",
        "    transitions = {state_map[n]: {Symbol.from_str(inv_sym_map[sym]):state_map[e] for sym,e in pdfa[n].edges.items()} for n in pdfa}\n",
        "    return MDP(actions, states, rewards, transitions, observations, gamma, p_stop, multisets, sym_map)"
      ],
      "execution_count": 15,
      "outputs": []
    },
    {
      "cell_type": "markdown",
      "metadata": {
        "id": "qBJ9XsOHnNXE"
      },
      "source": [
        "### AdaCT\n",
        "```\n",
        "inputs:\n",
        "  sigma = alphabet \n",
        "  delta = confidence parameter\n",
        "  n     = upper bound on the number of states\n",
        "  S     = containing N examples drawn i.i.d. from some target PDFA T with at most n states.\n",
        "\n",
        "output:\n",
        "  G     = hypothesis graph\n",
        "```"
      ]
    },
    {
      "cell_type": "code",
      "metadata": {
        "id": "HyMe2sJJF-6C"
      },
      "source": [
        "def AdaCT(sigma, delta, n_hat, S, debug=False):\n",
        "  G = Graph() # init hypothesis graph\n",
        "  G['A'] = Node(S)\n",
        "  max_stages = n_hat*len(sigma) # maximum learning stages\n",
        "  \n",
        "  for i in range(max_stages):\n",
        "    # create candidates\n",
        "    candidates = {}\n",
        "    for (node, sym) in pairs(G.nodes(), sigma):\n",
        "      # check if transition exists\n",
        "      if sym not in G[node].edges:\n",
        "        state = node + sym\n",
        "        candidates[state] = Node()\n",
        "  \n",
        "    # populate candidates multisets\n",
        "    for sample in S:\n",
        "      curr_node = G.start_node()\n",
        "      for count, s in enumerate(sample[:-1]):\n",
        "        # traverse graph  \n",
        "        if s in G[curr_node].edges:\n",
        "          curr_node = G[curr_node].edges[s]\n",
        "        else:\n",
        "          # if transition to candidate node exists\n",
        "          state = curr_node + s\n",
        "          if state in candidates:\n",
        "            candidates[state].multiset.append(sample[count+1:])\n",
        "          break\n",
        "\n",
        "    # discard empty candidates\n",
        "    candidates = {k:v for k,v in candidates.items() if len(v.multiset) > 0}\n",
        "    \n",
        "    # if there are no more candidates return\n",
        "    if len(candidates) == 0:\n",
        "      if debug: print(\"\\n################# NO MORE CANDIDATES #################\\n\")\n",
        "      return G\n",
        "\n",
        "    if debug:\n",
        "      print(\"\\n################# STAGE \"+ str(i) +\" #################\")\n",
        "      print(G)\n",
        "      print('Candidates --> ', {c:len(candidates[c].multiset) for c in candidates.keys()})\n",
        "    \n",
        "    # choose candidate node with maximum cardinality multiset\n",
        "    candidate_node, candidate_obj = max(candidates.items(), key=operator.itemgetter(1))\n",
        "    if debug: print('candidate node --> {}'.format(candidate_node))\n",
        "    \n",
        "    # check if safe nodes are distincts from candidate\n",
        "    for safe_node in G:\n",
        "      result = test_distinct(candidate_obj.multiset, G[safe_node].multiset, sigma, delta, n_hat)\n",
        "      if result == 'Not Clear':\n",
        "        not_clear_node = safe_node\n",
        "        break\n",
        "    if debug: print('Test --> {}'.format(result))\n",
        "\n",
        "    index = len(candidate_node)-1 \n",
        "    prev_node, sym = candidate_node[:index], candidate_node[index]\n",
        "    # add new safe node to graph and corresponding edge\n",
        "    if result == 'Distinct':\n",
        "      G[prev_node].edges[sym] = candidate_node\n",
        "      G[candidate_node] = candidate_obj.copy()\n",
        "    # add a back edge to the unclear node \n",
        "    else:\n",
        "      G[prev_node].edges[sym] = not_clear_node\n",
        "\n",
        "  if debug: print(\"\\n################# REACHED MAX STAGES #################\\n\")\n",
        "  return G"
      ],
      "execution_count": 6,
      "outputs": []
    },
    {
      "cell_type": "markdown",
      "metadata": {
        "id": "2XEmT0I_N5mR"
      },
      "source": [
        "#### Test"
      ]
    },
    {
      "cell_type": "code",
      "metadata": {
        "id": "GhJ5CBXfhyxF"
      },
      "source": [
        "S, sym_map = draw_sample(env, 30000)\n",
        "print(\"\\n Mapping: \\n\", sym_map)\n",
        "alphabet = read_alphabet(S)\n",
        "print(\"\\n Alphabet: \\n\", alphabet)\n",
        "G = AdaCT(alphabet, 0.1, n_hat, S, debug=True)"
      ],
      "execution_count": null,
      "outputs": []
    },
    {
      "cell_type": "code",
      "metadata": {
        "id": "UOP0EzoGYhNe"
      },
      "source": [
        "G.view(env, sym_map)"
      ],
      "execution_count": null,
      "outputs": []
    },
    {
      "cell_type": "markdown",
      "metadata": {
        "id": "GiUcW8gmntX0"
      },
      "source": [
        "### RL\n",
        "```\n",
        "inputs:\n",
        "  A       = actions\n",
        "  gamma   = discount factor\n",
        "  epsilon = required precision\n",
        "  delta   = confidence parameter\n",
        "\n",
        "output:\n",
        "  pi       = policy\n",
        "  ti       = transducer\n",
        "```"
      ]
    },
    {
      "cell_type": "code",
      "metadata": {
        "id": "NLlsjvkJntgT"
      },
      "source": [
        "def RL(actions, gamma, epsilon, delta, env, samples, steps=1, np=1, stop=None):\n",
        "  X, out = [], {}\n",
        "  n_hat = len(env.specification.tau)\n",
        "  p_stop = 1/(stop+1) if stop else 1/(10*n_hat+1)\n",
        "  for i in range(steps):\n",
        "    s = samples//steps*(i+1)\n",
        "    print('step {} : {} samples'.format(i+1, s), end =\" \")\n",
        "    X, sym_map = draw_sample(env, samples//steps, None, X)\n",
        "    #X, sym_map = draw_sample(env, samples//steps, p_stop, X)\n",
        "    alphabet = read_alphabet(X)\n",
        "    R_max = max_reward(alphabet, sym_map)\n",
        "    out[s] = {}\n",
        "    for p in range(np):\n",
        "      print('\\u03C0'+ str(p), end=\" \")\n",
        "      pdfa = AdaCT(alphabet, delta, n_hat, X)\n",
        "      mdp = MDP.compute_mdp(pdfa, alphabet, actions, gamma, p_stop, sym_map)\n",
        "      m = math.ceil(1/(1-gamma) * math.log(2*R_max/(epsilon*math.pow((1-gamma),2))))\n",
        "      pi, _ = mdp.value_iteration(m)\n",
        "      t = mdp.transducer()\n",
        "      out[s][p] = {'pi': pi, 't': t, 'pdfa': pdfa, 'map': sym_map}    \n",
        "    print('\\n')\n",
        "  return out"
      ],
      "execution_count": 7,
      "outputs": []
    },
    {
      "cell_type": "markdown",
      "metadata": {
        "id": "Msr053AxZ_gY"
      },
      "source": [
        "#### Test"
      ]
    },
    {
      "cell_type": "code",
      "metadata": {
        "id": "2WwI0xHYZ-4P"
      },
      "source": [
        "RL(actions, 0.1, 0.01, 0.1, env, samples=100)[100][0]"
      ],
      "execution_count": null,
      "outputs": []
    },
    {
      "cell_type": "markdown",
      "metadata": {
        "id": "CTykXXPy3DZ1"
      },
      "source": [
        "## Experiments"
      ]
    },
    {
      "cell_type": "code",
      "metadata": {
        "id": "VsLXpaGo7rLy"
      },
      "source": [
        "samples = 500      # samples drawn for AdaCT algorithm\n",
        "steps = 10           # steps of rl in the number of samples\n",
        "num_policies = 10     # n policies computed with n different graphs\n",
        "stop = 15              # expected value of length of one episode (10 MAB, 15 Maze, N Enemy)\n",
        "episodes = 1000       # number of episodes to run the policy"
      ],
      "execution_count": 20,
      "outputs": []
    },
    {
      "cell_type": "code",
      "metadata": {
        "colab": {
          "base_uri": "https://localhost:8080/"
        },
        "id": "qMCqAWUYfQmq",
        "outputId": "049700dc-49ae-4e56-9330-dea0ebffd27e"
      },
      "source": [
        "rl = RL(actions, 0.1, 0.01, 0.1, env, samples, steps, num_policies, stop)"
      ],
      "execution_count": 21,
      "outputs": [
        {
          "output_type": "stream",
          "name": "stdout",
          "text": [
            "step 1 : 50 samples π0 π1 π2 π3 π4 π5 π6 π7 π8 π9 \n",
            "\n",
            "step 2 : 100 samples π0 π1 π2 π3 π4 π5 π6 π7 π8 π9 \n",
            "\n",
            "step 3 : 150 samples π0 π1 π2 π3 π4 π5 π6 π7 π8 π9 \n",
            "\n",
            "step 4 : 200 samples π0 π1 π2 π3 π4 π5 π6 π7 π8 π9 \n",
            "\n",
            "step 5 : 250 samples π0 π1 π2 π3 π4 π5 π6 π7 π8 π9 \n",
            "\n",
            "step 6 : 300 samples π0 π1 π2 π3 π4 π5 π6 π7 π8 π9 \n",
            "\n",
            "step 7 : 350 samples π0 π1 π2 π3 π4 π5 π6 π7 π8 π9 \n",
            "\n",
            "step 8 : 400 samples π0 π1 π2 π3 π4 π5 π6 π7 π8 π9 \n",
            "\n",
            "step 9 : 450 samples π0 π1 π2 π3 π4 π5 π6 π7 π8 π9 \n",
            "\n",
            "step 10 : 500 samples π0 π1 π2 π3 π4 π5 π6 π7 π8 π9 \n",
            "\n"
          ]
        }
      ]
    },
    {
      "cell_type": "code",
      "metadata": {
        "id": "jjV4MNuD3Cv2",
        "colab": {
          "base_uri": "https://localhost:8080/"
        },
        "outputId": "8ddbd666-005d-4110-bd44-a0334c8da095"
      },
      "source": [
        "avg_rewards = {}\n",
        "\n",
        "for s in rl: # for all samples\n",
        "  rewards = 0\n",
        "  for p in rl[s]: # for all policies\n",
        "    t = rl[s][p] # take transducer\n",
        "    for k in range(episodes): # for num episodes\n",
        "      e, steps = policy_episode(env, t['t'], t['pi'], stop) # run policy\n",
        "      rewards += sum(r for (_,_,r) in e) / steps\n",
        "  avg_rewards[s] = round(rewards/(num_policies*episodes), 2) # take the policies average\n",
        "\n",
        "print(\"Average rewards per samples per steps in one episode:\")\n",
        "print(avg_rewards)\n",
        "print('max (samples:reward) ->', max(avg_rewards.items(), key=operator.itemgetter(1)))"
      ],
      "execution_count": 22,
      "outputs": [
        {
          "output_type": "stream",
          "name": "stdout",
          "text": [
            "Average rewards per samples per steps in one episode:\n",
            "{50: 63.52, 100: 63.07, 150: 63.32, 200: 63.26, 250: 63.47, 300: 63.3, 350: 62.92, 400: 63.13, 450: 63.43, 500: 63.44}\n",
            "max (samples:reward) -> (50, 63.52)\n"
          ]
        }
      ]
    },
    {
      "cell_type": "markdown",
      "metadata": {
        "id": "YJwgabvXPtRX"
      },
      "source": [
        "**Plots**"
      ]
    },
    {
      "cell_type": "code",
      "metadata": {
        "id": "0JpgpTHpPtpz",
        "colab": {
          "base_uri": "https://localhost:8080/",
          "height": 296
        },
        "outputId": "762ce3b8-b480-44ac-dd49-07ff757ce1d0"
      },
      "source": [
        "# Code for plotting (x = samples, y = avg_reward)\n",
        "import matplotlib.pyplot as plt\n",
        "%matplotlib inline\n",
        "\n",
        "samples = list(avg_rewards.keys())\n",
        "rewards = list(avg_rewards.values())\n",
        "\n",
        "plt.ylabel('Average Reward')\n",
        "plt.xlabel('Samples')\n",
        "plt.plot(samples, rewards)"
      ],
      "execution_count": 23,
      "outputs": [
        {
          "output_type": "execute_result",
          "data": {
            "text/plain": [
              "[<matplotlib.lines.Line2D at 0x7f6f2b2b4f90>]"
            ]
          },
          "metadata": {},
          "execution_count": 23
        },
        {
          "output_type": "display_data",
          "data": {
            "image/png": "[encoded data removed]",
            "text/plain": [
              "<Figure size 432x288 with 1 Axes>"
            ]
          },
          "metadata": {
            "needs_background": "light"
          }
        }
      ]
    },
    {
      "cell_type": "markdown",
      "metadata": {
        "id": "wRRByJT3GomV"
      },
      "source": [
        "**View/Save graph**"
      ]
    },
    {
      "cell_type": "code",
      "metadata": {
        "id": "USDjIhECGfBT"
      },
      "source": [
        "# take the graph yielding the maxium avg reward\n",
        "max_samples = max(avg_rewards.items(), key=operator.itemgetter(1))[0]\n",
        "_, _, max_pdfa, sym_map = rl[max_samples][random.randint(1, 10)].values()\n",
        "max_pdfa.view(env, sym_map, save=str(max_samples))"
      ],
      "execution_count": null,
      "outputs": []
    },
    {
      "cell_type": "markdown",
      "metadata": {
        "id": "G0y0OSOcTD2w"
      },
      "source": [
        "## Debug Tests\n"
      ]
    },
    {
      "cell_type": "code",
      "metadata": {
        "colab": {
          "base_uri": "https://localhost:8080/"
        },
        "id": "i3RrnvR5sfoE",
        "outputId": "39f406c7-73e6-4ceb-936c-4126fbeb000e"
      },
      "source": [
        "print(rl)"
      ],
      "execution_count": null,
      "outputs": [
        {
          "name": "stdout",
          "output_type": "stream",
          "text": [
            "{200000: {0: {'pi': {(21,): 0, (32,): 0, (23,): 2, (34,): 1, (9,): 3, (36,): 3, (11,): 3, (38,): 1, (13,): 2, (24,): 1, (15,): 2, (26,): 1, (1,): 3, (28,): 1, (3,): 3, (30,): 0, (41,): 2, (5,): 3, (16,): 3, (43,): 1, (7,): 3, (18,): 1, (45,): 3, (20,): 0, (22,): 3, (33,): 0, (8,): 0, (35,): 0, (10,): 3, (37,): 2, (12,): 3, (39,): 0, (14,): 2, (25,): 1, (0,): 0, (27,): 2, (2,): 0, (29,): 0, (40,): 1, (4,): 3, (31,): 0, (42,): 0, (6,): 3, (17,): 2, (44,): 3, (19,): 2, (46,): 1}, 't': {(21,): {(3, 2): (0,), (3, 0): (0,), (3, 1): (0,), (2, 1): (0,)}, (32,): {(1, 2): (0,), (3, 2): (0,), (3, 1): (0,), (2, 1): (0,), (2, 0): (15,), (1, 1): (4,), (2, 3): (39,), (2, 2): (6,)}, (23,): {(0, 1): (18,), (1, 2): (28,), (1, 0): (31,), (2, 1): (32,)}, (34,): {(0, 1): (29,), (1, 2): (28,), (1, 0): (0,), (2, 1): (32,)}, (9,): {(0, 1): (18,), (0, 0): (9,), (1, 0): (10,)}, (36,): {(3, 0): (36,), (3, 1): (0,), (2, 0): (4,)}, (11,): {(0, 1): (0,), (0, 0): (9,), (1, 1): (15,), (0, 2): (0,)}, (38,): {(1, 2): (0,), (1, 3): (0,), (2, 3): (39,), (0, 3): (0,)}, (13,): {(1, 3): (27,), (1, 1): (0,), (2, 2): (22,), (0, 2): (25,)}, (24,): {(3, 0): (36,), (1, 0): (31,), (2, 1): (32,), (2, 0): (37,)}, (15,): {(0, 1): (0,), (1, 2): (28,), (3, 0): (0,), (1, 0): (19,), (2, 1): (0,), (2, 0): (0,)}, (26,): {(1, 3): (38,), (0, 3): (26,), (0, 2): (4,)}, (1,): {(0, 1): (0,), (0, 0): (0,), (1, 1): (15,), (0, 2): (14,)}, (28,): {(1, 3): (42,), (1, 1): (0,), (2, 2): (5,), (0, 2): (5,)}, (3,): {(0, 1): (11,), (0, 0): (0,), (1, 0): (0,)}, (30,): {(0, 1): (0,), (0, 0): (30,), (1, 0): (0,)}, (41,): {(1, 2): (0,), (3, 2): (0,), (2, 1): (0,), (2, 3): (39,)}, (5,): {(0, 1): (1,), (1, 2): (28,), (3, 2): (0,), (1, 3): (0,), (0, 0): (0,), (3, 0): (0,), (1, 0): (16,), (3, 1): (0,), (2, 1): (0,), (2, 0): (0,), (1, 1): (15,), (2, 3): (39,), (0, 3): (0,), (0, 2): (0,)}, (16,): {(0, 0): (0,), (3, 0): (0,), (1, 0): (19,), (3, 1): (0,), (2, 1): (12,), (2, 0): (0,), (1, 1): (0,)}, (43,): {(1, 2): (0,), (3, 2): (0,), (2, 1): (0,), (2, 3): (39,)}, (7,): {(0, 1): (0,), (0, 0): (3,), (1, 1): (15,), (0, 2): (6,)}, (18,): {(0, 1): (18,), (0, 0): (30,), (1, 1): (23,), (0, 2): (35,)}, (45,): {(3, 2): (0,), (3, 3): (0,), (2, 3): (39,)}, (20,): {(3, 0): (20,), (3, 1): (40,), (2, 0): (4,)}, (22,): {(1, 2): (4,), (3, 2): (4,), (2, 1): (0,), (2, 3): (39,)}, (33,): {(1, 3): (0,), (0, 3): (33,), (0, 2): (0,)}, (8,): {(0, 1): (0,), (1, 2): (0,), (3, 0): (20,), (1, 0): (0,), (3, 1): (0,), (2, 1): (12,), (2, 0): (16,)}, (35,): {(0, 1): (0,), (1, 2): (0,), (0, 3): (0,), (0, 2): (35,)}, (10,): {(0, 0): (0,), (1, 0): (0,), (2, 0): (16,), (1, 1): (15,)}, (37,): {(3, 0): (0,), (1, 0): (31,), (2, 1): (32,), (2, 0): (37,)}, (12,): {(3, 1): (21,), (2, 0): (24,), (1, 1): (15,), (2, 2): (22,)}, (39,): {}, (14,): {(0, 1): (11,), (1, 2): (13,), (0, 3): (0,), (0, 2): (14,)}, (25,): {(0, 1): (29,), (1, 2): (28,), (0, 3): (33,), (0, 2): (25,)}, (0,): {(0, 1): (1,), (1, 2): (4,), (3, 2): (4,), (1, 3): (0,), (0, 0): (9,), (3, 3): (0,), (3, 0): (16,), (1, 0): (10,), (3, 1): (0,), (2, 1): (0,), (2, 0): (0,), (1, 1): (0,), (2, 3): (39,), (2, 2): (0,), (0, 3): (33,), (0, 2): (0,)}, (27,): {(1, 2): (0,), (1, 3): (0,), (2, 3): (0,), (0, 3): (0,)}, (2,): {(0, 0): (9,), (1, 0): (10,), (2, 0): (0,), (1, 1): (4,)}, (29,): {(0, 1): (1,), (0, 0): (0,), (1, 1): (8,), (0, 2): (0,)}, (40,): {(3, 2): (0,), (3, 0): (0,), (3, 1): (0,), (2, 1): (0,)}, (4,): {(0, 1): (11,), (1, 2): (13,), (3, 2): (4,), (1, 3): (0,), (3, 3): (46,), (3, 0): (8,), (1, 0): (10,), (3, 1): (4,), (2, 1): (4,), (2, 0): (4,), (1, 1): (0,), (2, 3): (39,), (2, 2): (0,), (0, 3): (0,), (0, 2): (0,)}, (31,): {(0, 0): (0,), (1, 0): (2,), (2, 0): (4,), (1, 1): (0,)}, (42,): {(1, 2): (0,), (1, 3): (0,), (2, 3): (39,), (0, 3): (0,)}, (6,): {(0, 1): (11,), (1, 2): (13,), (3, 2): (0,), (1, 3): (0,), (2, 1): (0,), (2, 3): (39,), (0, 3): (26,), (0, 2): (0,)}, (17,): {(0, 1): (29,), (0, 0): (17,), (1, 0): (0,)}, (44,): {(3, 2): (0,), (3, 0): (0,), (3, 1): (0,), (2, 1): (0,)}, (19,): {(0, 0): (17,), (1, 0): (19,), (2, 0): (24,), (1, 1): (23,)}, (46,): {(3, 2): (0,), (3, 3): (0,), (2, 3): (39,)}}, 'pdfa': Graph['A', 'A~', 'Ai', 'Aiu', 'A~f', 'AiO', 'A~P', 'A~M', 'Ai`', 'Aiuu', 'AO', 'A^', 'A~fr', 'A~f|', 'A^B', 'A^y', 'AOh', 'Aiuu\\x7f', 'AiuuJ', 'Aiuu_', 'Ai`D', 'A~frj', 'A~frW', 'AOy', 'AOH', 'A^\\\\', 'A^Bn', 'A~f|T', 'AOyd', 'Aiuu\\x7fM', 'Aiuu\\x7fL', 'Aiuu\\x7fS', 'AOyX', 'A^\\\\\\x81', 'AiuuJG', 'AiuuJ[', 'AOHo', 'Aiuu_p', 'A^BnQ', 'A~frWE', 'A~frv', 'A~fr{', 'AOydQ', 'AOydk', 'AOHov', 'Am', 'A~f]']\n",
            "  Node A         Edges -> {'~': 'A~', 'i': 'Ai', 'u': 'A', 'L': 'A', 'I': 'Aiuu', 'O': 'AO', '^': 'A^', '\\x7f': 'A', 'M': 'A~', 'S': 'Ai', 'f': 'A', '|': 'A', 'G': 'A', 'J': 'A', '[': 'A', 'P': 'A', 'a': 'A', '\\\\': 'A', 'Z': 'A~f', 'n': 'A', 'Q': 'A', '\\x81': 'A', 'c': 'A^\\\\\\x81', 'B': 'A', 'N': 'A', 'V': 'A', 'd': 'A~f', '\\x80': 'A', 'T': 'A', 'r': 'A', 'q': 'A', 's': 'A~frWE', 'b': 'A~frWE', 'R': 'A', 'k': 'A', 'K': 'A~frWE', 'E': 'A~frWE', '_': 'A', 'y': 'A', 'h': 'A', 'W': 'A', '{': 'A', '`': 'A', 'X': 'A', 'p': 'A', 'e': 'A~f', '}': 'A', 'H': 'A', 'v': 'A', 'g': 'A~f', 'x': 'A~f', 'z': 'A', 'l': 'A', 'j': 'A', 'U': 'A', 'Y': 'A', 'w': 'A', 'o': 'AOh', 't': 'A~f', 'D': 'A', 'm': 'Am', 'F': 'A', ']': 'A~f', 'C': 'A'} Multiset length = 200000\n",
            "  Node A~        Edges -> {'f': 'A~f', 'L': 'Aiu', 'P': 'A~P', 'M': 'A~M', 'u': 'Aiuu', 'B': 'A^B', '~': 'A^', 'y': 'A^y', '\\x7f': 'A', 'J': 'A', '[': 'A', 'G': 'A', '^': 'A', '\\\\': 'A', 'I': 'A', '}': 'A'} Multiset length = 48685\n",
            "  Node Ai        Edges -> {'u': 'Aiu', 'G': 'A~f', 'O': 'AiO', '`': 'Ai`', '_': 'AO', 'h': 'AOh', 'f': 'A^y', 'I': 'Aiuu', 'p': 'A', 'i': 'A', 'L': 'A', '}': 'A', 'S': 'A', 'H': 'A', '\\x7f': 'A', 'y': 'A'} Multiset length = 48507\n",
            "  Node Aiu       Edges -> {'u': 'Aiuu', '~': 'A^', 'i': 'AO', 'L': 'Aiuu', 'O': 'AO', '^': 'A^', 'I': 'Aiuu', '_': 'A', 'J': 'A', '\\x7f': 'A'} Multiset length = 17527\n",
            "  Node A~f       Edges -> {'M': 'A^', 'O': 'AO', 'r': 'A~fr', '|': 'A~f|', 'e': 'A~fr', '~': 'A^', 'Z': 'A~f|', '_': 'AO', '\\x80': 'A~f', 'R': 'A~f', 'i': 'Ai', 't': 'A~f', 'D': 'Ai`', 'v': 'A~f', 'g': 'A~f', 'X': 'A~f', 'J': 'A~', 'x': 'A~f', '`': 'A~f', 'h': 'Ai`', 'o': 'A~f', 'j': 'A~f', 'U': 'A~f', 'Y': 'A~f', 'w': 'A~f', 'W': 'A~f', 'z': 'A~f', 'p': 'A~f', 'H': 'A~f', 'k': 'A~f', 'l': 'A~f', '{': 'A~f', 'q': 'A', '}': 'A', 'P': 'A', 'y': 'A', 'T': 'A', '[': 'A', 'V': 'A', 'G': 'A', 'f': 'A', 'Q': 'A', '\\\\': 'A', 'm': 'A', 'd': 'A', 'b': 'A~frWE', 'F': 'A', 'N': 'A', 'B': 'A', 'K': 'A~frWE', ']': 'A~f]', 'C': 'A', 's': 'A~frWE', 'S': 'A', 'E': 'A~frWE', 'c': 'A', '\\x81': 'A', 'a': 'A', 'n': 'A', '^': 'A'} Multiset length = 17525\n",
            "  Node AiO       Edges -> {'O': 'AO', 'G': 'A^y', 'u': 'Aiuu', '`': 'AOh', '^': 'A~', 'h': 'Ai`', '_': 'AiO', 'f': 'A^y', 'I': 'Aiu', '|': 'A~f', 'J': 'A', 'Z': 'A', 'd': 'AOyd', 'X': 'AOyX', 'i': 'AOh', '\\x80': 'A', 'R': 'A', 'c': 'A', '\\\\': 'A', 'S': 'A', 'r': 'A', 'e': 'A', 's': 'A~frWE', 't': 'A', 'x': 'A', '\\x81': 'A', '[': 'A', 'p': 'A', 'a': 'A', 'B': 'A', 'U': 'A', '~': 'A', 'N': 'A', 'b': 'A~frWE', 'z': 'A', 'v': 'A', 'D': 'A', 'n': 'A', 'Q': 'A', 'o': 'A', 'K': 'A~frWE', 'g': 'A', 'H': 'A', 'y': 'A', '\\x7f': 'A'} Multiset length = 17387\n",
            "  Node A~P       Edges -> {'J': 'A^', '[': 'A^B', 'Z': 'A~f|', 'a': 'A^Bn', 'n': 'A^Bn', 'P': 'A~P', 'd': 'A~f|', 'M': 'A~M', 'z': 'A', 'r': 'A', 's': 'A~frWE', '\\x81': 'A', '\\x80': 'A', 'N': 'A', 'Q': 'A', 'e': 'A', 'K': 'A~frWE', 'B': 'A', 'l': 'A', '~': 'A', 'c': 'A', '\\\\': 'A', 'T': 'A'} Multiset length = 17278\n",
            "  Node A~M       Edges -> {'L': 'Aiuu', 'f': 'A^y', 'M': 'A^', 'P': 'A^B', 'y': 'A~f', 'B': 'A~P', '~': 'A~M', 'u': 'Aiu', 'I': 'A', '^': 'A', '\\\\': 'A', '}': 'A'} Multiset length = 17276\n",
            "  Node Ai`       Edges -> {'D': 'Ai`D', 'R': 'A~fr', 'h': 'AOh', '_': 'AO', 'r': 'A~fr', 'w': 'Ai`D', 'H': 'Ai`', 'S': 'AiO', 't': 'A', 'i': 'A', 'O': 'A', 'v': 'A', 'g': 'A', 'J': 'A', '\\x80': 'A', '`': 'A', 'X': 'A', '|': 'A', 'M': 'A', 'o': 'A', 'p': 'A', 'e': 'A', 'Y': 'A'} Multiset length = 17220\n",
            "  Node Aiuu      Edges -> {'^': 'A^', 'I': 'Aiuu', 'O': 'AO', 'u': 'Aiuu', '\\x7f': 'Aiuu\\x7f', 'J': 'AiuuJ', '_': 'Aiuu_', 'L': 'A', '~': 'A', 'i': 'A', 'M': 'A', 'S': 'A'} Multiset length = 8480\n",
            "  Node AO        Edges -> {'h': 'AOh', 'f': 'A^y', 'I': 'Aiuu', '_': 'AO', 'S': 'Aiuu_', 'y': 'AOy', 'H': 'AOH', '\\x7f': 'Aiuu\\x7f', 'u': 'A', '`': 'A', 'G': 'A', 'O': 'A', 'p': 'A', 'L': 'A', 'i': 'A', '}': 'A'} Multiset length = 7032\n",
            "  Node A^        Edges -> {'~': 'A^', 'B': 'A^B', 'u': 'Aiuu', 'y': 'A^y', '}': 'AOy', 'I': 'Aiuu\\x7f', '\\\\': 'A^\\\\', '^': 'AiuuJ', 'P': 'A', 'M': 'A', 'f': 'A', 'L': 'A', '[': 'A', 'J': 'A', 'G': 'A', '\\x7f': 'A'} Multiset length = 6983\n",
            "  Node A~fr      Edges -> {'G': 'A^y', 'j': 'A~frj', 'W': 'A~frW', 'H': 'AOh', 'v': 'A~frv', 'p': 'AOH', '{': 'A~fr{', 'f': 'A^y', 'Y': 'A', 'k': 'A', 'h': 'A', '}': 'A', 'y': 'A', 'q': 'A', 'g': 'A', '`': 'A'} Multiset length = 5726\n",
            "  Node A~f|      Edges -> {'}': 'A^y', 'P': 'A^B', 'T': 'A~f|T', '{': 'A~frW', 'q': 'A~fr{', 'B': 'A^\\\\', 'N': 'A~f|T', 'G': 'A^y', 'W': 'A', 'y': 'A', '[': 'A', 'V': 'A', '\\\\': 'A', 'f': 'A', 'k': 'A', 'Q': 'A'} Multiset length = 5618\n",
            "  Node A^B       Edges -> {'n': 'A^Bn', 'd': 'A~f|', 'M': 'A^', 'P': 'A^B', 'B': 'A^\\\\', '\\x81': 'A^Bn', '~': 'AiuuJ', '\\x80': 'AOyd', 'Z': 'A', '[': 'A', 'J': 'A', 'a': 'A'} Multiset length = 6990\n",
            "  Node A^y       Edges -> {'e': 'A~fr', '~': 'A^', '_': 'AO', 'Z': 'A~f|', 'X': 'AOyX', 'S': 'Aiuu_', '^': 'AiuuJ', 'd': 'AOyd', 'O': 'A', 't': 'A', '`': 'A', 'R': 'A', 'D': 'A', 'h': 'A', '|': 'A', 'M': 'A', 'r': 'A', '\\x80': 'A', 'J': 'A', 'i': 'A'} Multiset length = 7177\n",
            "  Node AOh       Edges -> {'w': 'Ai`D', 'r': 'A~fr', 'H': 'AOh', 'S': 'AO', 'i': 'Aiuu_', 'p': 'AOH', 'e': 'AOyX', 'o': 'AOHo', 't': 'A', '`': 'A', 'Y': 'A', 'j': 'A', 'D': 'A', 'h': 'A', '_': 'A', 'R': 'A', 'L': 'A', '}': 'A', 'v': 'A', 'X': 'A', 'O': 'A'} Multiset length = 6089\n",
            "  Node Aiuu     Edges -> {'I': 'Aiuu\\x7f', '\\x7f': 'Aiuu\\x7f', 'J': 'AiuuJ', '_': 'Aiuu_', 'M': 'Aiuu\\x7fM', 'L': 'Aiuu\\x7fL', 'S': 'Aiuu\\x7fS', '~': 'A', 'u': 'A', 'i': 'A'} Multiset length = 3905\n",
            "  Node AiuuJ     Edges -> {'I': 'Aiuu\\x7f', '}': 'AOy', '\\\\': 'A^\\\\', '^': 'AiuuJ', 'G': 'AiuuJG', 'J': 'Aiuu\\x7fM', '\\x7f': 'Aiuu\\x7fL', '[': 'AiuuJ['} Multiset length = 3831\n",
            "  Node Aiuu_     Edges -> {'y': 'AOy', 'H': 'AOH', '\\x7f': 'Aiuu\\x7f', 'S': 'Aiuu_', 'L': 'Aiuu\\x7fL', 'i': 'Aiuu\\x7fS', 'p': 'Aiuu_p', '}': 'AiuuJG'} Multiset length = 3820\n",
            "  Node Ai`D      Edges -> {'o': 'Ai`D', 'p': 'A~f', 'Y': 'A~f', 'w': 'Ai`D', 't': 'AOHo', '`': 'AOH', 'j': 'A~frv', 'D': 'A', 'g': 'A', 'H': 'A', 'h': 'A', 'v': 'A'} Multiset length = 2870\n",
            "  Node A~frj     Edges -> {'R': 'A', 'j': 'A', 'o': 'A', 'l': 'A', 'r': 'A', 'U': 'A', 'v': 'A', 't': 'A'} Multiset length = 2939\n",
            "  Node A~frW     Edges -> {'E': 'A~frWE', '|': 'A~f', 'X': 'A~f', 'U': 'A~f', 'b': 'A~frWE', 'x': 'A', 'R': 'A', 'Z': 'A'} Multiset length = 2933\n",
            "  Node AOy       Edges -> {'d': 'AOyd', '^': 'AiuuJ', 'S': 'Aiuu_', 'X': 'AOyX', 'i': 'Aiuu\\x7fS', '\\x80': 'AOyd', 'J': 'Aiuu\\x7fM', 'R': 'AOyX'} Multiset length = 2838\n",
            "  Node AOH       Edges -> {'p': 'AOH', 'e': 'AOyX', 'i': 'Aiuu_', 'o': 'AOHo', 't': 'AOHo', '`': 'Aiuu_p', 'X': 'AOyX', 'O': 'Aiuu\\x7fS', 'r': 'A', 'w': 'A', 'H': 'A', 'S': 'A'} Multiset length = 2837\n",
            "  Node A^\\       Edges -> {'\\x81': 'A^\\\\\\x81', '~': 'AiuuJ', 'B': 'A^\\\\', '\\x80': 'AOyd', 'c': 'A^\\\\\\x81', '|': 'AOyd', '^': 'Aiuu\\x7fM', '\\\\': 'AiuuJ['} Multiset length = 2810\n",
            "  Node A^Bn      Edges -> {'n': 'A^Bn', 'a': 'A~P', 'N': 'A~f', '[': 'A~f', '\\x81': 'A^Bn', 'P': 'A^\\\\', 'Q': 'A^BnQ', 'c': 'A', 'B': 'A', 'V': 'A', 'T': 'A', '\\\\': 'A'} Multiset length = 2815\n",
            "  Node A~f|T     Edges -> {'s': 'A~frWE', 'N': 'A', 'a': 'A', 'n': 'A', '|': 'A', 'b': 'A~frWE', '\\x80': 'A', 'T': 'A', 'K': 'A', '\\x81': 'A', 'Z': 'A', 'Q': 'A'} Multiset length = 3082\n",
            "  Node AOyd      Edges -> {'N': 'AiO', 'G': 'AiO', 'q': 'AiO', 'B': 'AiO', '\\\\': 'AiuuJ[', 'Q': 'AOydQ', 'f': 'AiuuJG', 'k': 'AOydk', 'W': 'A', '[': 'A', 'y': 'A', 'V': 'A'} Multiset length = 2836\n",
            "  Node AiuuM    Edges -> {'\\x7f': 'A', 'J': 'A~', '[': 'AiO', 'G': 'Ai`', 'L': 'A', 'M': 'A', 'P': 'A', 'f': 'A'} Multiset length = 2933\n",
            "  Node AiuuL    Edges -> {'\\x7f': 'Aiuu\\x7fL', 'L': 'Aiuu\\x7fL', 'M': 'Aiuu\\x7fM', 'S': 'Aiuu\\x7fS', 'i': 'Ai', 'u': 'A', '~': 'A', '^': 'A', 'I': 'A', 'O': 'A'} Multiset length = 2885\n",
            "  Node AiuuS    Edges -> {'L': 'A', '}': 'A~f', 'p': 'A~f', 'i': 'Ai', '`': 'A', 'O': 'A', 'u': 'A', 'G': 'A'} Multiset length = 2841\n",
            "  Node AOyX      Edges -> {'{': 'AOyX', 'p': 'AiO', 'f': 'AiO', 'v': 'AiO', 'g': 'A~f', 'y': 'A~f', 'q': 'A~P', '`': 'A^y', 'b': 'A~frWE', 'Z': 'A', 'x': 'A', 'R': 'A', 'r': 'A', 's': 'A~frWE', 'd': 'A', 'z': 'A', '}': 'A', 'h': 'A', 'k': 'A', 'Y': 'A'} Multiset length = 2778\n",
            "  Node A^\\      Edges -> {'\\x81': 'A^\\\\\\x81', 'c': 'A^\\\\\\x81', 'B': 'A~f', 'V': 'A~f', '\\\\': 'A', 'T': 'A', 'a': 'A', 'n': 'A', 'Q': 'A', 'P': 'A', '[': 'A', 'N': 'A'} Multiset length = 2500\n",
            "  Node AiuuJG    Edges -> {'J': 'Aiuu\\x7fM', 'R': 'AOyX', '\\x80': 'AOyd', 'i': 'Aiuu\\x7fS', '|': 'A', 'r': 'A', 'O': 'A', 'M': 'A'} Multiset length = 2462\n",
            "  Node AiuuJ[    Edges -> {'|': 'AOyd', 'c': 'A^\\\\\\x81', '^': 'Aiuu\\x7fM', '\\\\': 'AiuuJ[', 'Z': 'A', 'J': 'A', 'a': 'A', '[': 'A'} Multiset length = 2467\n",
            "  Node AOHo      Edges -> {'t': 'AOHo', '`': 'A~f', 'o': 'AOHo', 'j': 'A~f', 'D': 'AOHo', 'v': 'AOHov', 'h': 'Aiuu_p', 'w': 'A', 'H': 'A', 'g': 'A', 'p': 'A', 'Y': 'A'} Multiset length = 2967\n",
            "  Node Aiuu_p    Edges -> {'X': 'AOyX', 't': 'AOHo', 'O': 'Aiuu\\x7fS', '`': 'Aiuu_p', 'R': 'A', 'h': 'A', '_': 'A', 'D': 'A'} Multiset length = 2575\n",
            "  Node A^BnQ     Edges -> {'s': 'A~frWE', 'n': 'A', 'N': 'A', '|': 'A', 'Z': 'A', '\\x81': 'A', 'K': 'A~frWE', 'Q': 'A'} Multiset length = 2423\n",
            "  Node A~frWE    Edges -> {} Multiset length = 1688\n",
            "  Node A~frv     Edges -> {'t': 'A', 'v': 'A', 'U': 'A', 'r': 'A', 'D': 'A', 'g': 'A', 'e': 'A', 'x': 'A'} Multiset length = 1657\n",
            "  Node A~fr{     Edges -> {'Z': 'A', 'b': 'A~frWE', 'R': 'A', 'x': 'A', 'd': 'A', 'z': 'A', 'r': 'A', 's': 'A~frWE'} Multiset length = 1606\n",
            "  Node AOydQ     Edges -> {'Q': 'A', 'Z': 'A', 'K': 'A~frWE', '\\x81': 'A', 'V': 'A', 'd': 'A', 'E': 'A~frWE', 'c': 'A'} Multiset length = 1768\n",
            "  Node AOydk     Edges -> {'z': 'A', 'r': 'A', 'd': 'A', 's': 'A~frWE', 'K': 'A~frWE', 'e': 'A', '\\x80': 'A', 'l': 'A'} Multiset length = 2139\n",
            "  Node AOHov     Edges -> {'D': 'A', 'g': 'A', 'e': 'A', 'x': 'A', 'z': 'A', 'Y': 'A', 'X': 'A', 'w': 'A'} Multiset length = 2219\n",
            "  Node Am        Edges -> {'F': 'A', 'm': 'A', 'E': 'A~frWE', 'z': 'A', ']': 'A', 'b': 'A~frWE', 'l': 'A', 'x': 'A', 'K': 'A~frWE', 'C': 'A'} Multiset length = 1036\n",
            "  Node A~f]      Edges -> {'C': 'A', ']': 'A', 's': 'A~frWE', 'U': 'A', 'K': 'A~frWE', 'x': 'A', 'm': 'A', 'b': 'A', 'F': 'A', 'l': 'A'} Multiset length = 1172\n",
            ", 'map': {'3(0, 2)0': 'B', '3(3, 3)0': 'C', '3(3, 0)0': 'D', '3(2, 3)100': 'E', '1(3, 3)0': 'F', '0(1, 1)0': 'G', '1(2, 0)0': 'H', '0(0, 0)0': 'I', '2(0, 1)0': 'J', '0(2, 3)100': 'K', '2(0, 0)0': 'L', '1(0, 1)0': 'M', '2(1, 3)0': 'N', '2(1, 0)0': 'O', '0(0, 2)0': 'P', '1(1, 3)0': 'Q', '0(2, 1)0': 'R', '0(1, 0)0': 'S', '3(1, 3)0': 'T', '2(3, 2)0': 'U', '0(1, 3)0': 'V', '3(2, 2)0': 'W', '1(2, 1)0': 'X', '3(3, 1)0': 'Y', '3(1, 2)0': 'Z', '1(0, 2)0': '[', '2(0, 2)0': '\\\\', '0(3, 3)0': ']', '3(0, 1)0': '^', '1(1, 0)0': '_', '3(2, 0)0': '`', '0(0, 3)0': 'a', '2(2, 3)100': 'b', '1(0, 3)0': 'c', '2(1, 2)0': 'd', '2(2, 1)0': 'e', '3(1, 1)0': 'f', '0(3, 1)0': 'g', '2(2, 0)0': 'h', '3(1, 0)0': 'i', '2(3, 1)0': 'j', '0(2, 2)0': 'k', '3(3, 2)0': 'l', '2(3, 3)0': 'm', '3(0, 3)0': 'n', '1(3, 0)0': 'o', '0(2, 0)0': 'p', '1(2, 2)0': 'q', '3(2, 1)0': 'r', '1(2, 3)100': 's', '0(3, 0)0': 't', '1(0, 0)0': 'u', '1(3, 1)0': 'v', '2(3, 0)0': 'w', '1(3, 2)0': 'x', '2(1, 1)0': 'y', '0(3, 2)0': 'z', '2(2, 2)0': '{', '0(1, 2)0': '|', '1(1, 1)0': '}', '0(0, 1)0': '~', '3(0, 0)0': '\\x7f', '1(1, 2)0': '\\x80', '2(0, 3)0': '\\x81', '$': '$'}}}}\n"
          ]
        }
      ]
    },
    {
      "cell_type": "code",
      "metadata": {
        "colab": {
          "base_uri": "https://localhost:8080/"
        },
        "id": "qVvRe4KmKgar",
        "outputId": "bd9bb1b5-62c6-4579-f2b3-2be5a505476b"
      },
      "source": [
        "from collections import defaultdict, Counter\n",
        "m = ['GBAFH', 'ABBCIE', 'CKI']\n",
        "pm = prefixes(m)\n",
        "mult_m, mult_pm = Counter(m), Counter(pm)\n",
        "print(mult_m)\n",
        "print(mult_m['G'])\n",
        "print(mult_pm)\n",
        "print(mult_pm['G'])"
      ],
      "execution_count": null,
      "outputs": [
        {
          "name": "stdout",
          "output_type": "stream",
          "text": [
            "Counter({'GBAFH': 1, 'ABBCIE': 1, 'CKI': 1})\n",
            "0\n",
            "Counter({'': 3, 'G': 1, 'GB': 1, 'GBA': 1, 'GBAF': 1, 'A': 1, 'AB': 1, 'ABB': 1, 'ABBC': 1, 'ABBCI': 1, 'C': 1, 'CK': 1})\n",
            "1\n"
          ]
        }
      ]
    },
    {
      "cell_type": "code",
      "metadata": {
        "colab": {
          "base_uri": "https://localhost:8080/"
        },
        "id": "4BTh7TLgaWQb",
        "outputId": "99dca052-29ee-427b-b451-749a2643d6b3"
      },
      "source": [
        "u = ['AB$', 'AC$', 'AD$']\n",
        "v = ['A$', 'AB$', 'B$', 'Z$']\n",
        "pu, pv = prefixes(u), prefixes(v)\n",
        "mu, mv = len(u), len(v)\n",
        "\n",
        "print('sup distances')\n",
        "print('u', u)\n",
        "print('v', v)\n",
        "sup = {str(s):abs(multiplicity(s, u)/mu - multiplicity(s, v)/mv) for s in (u + v)}\n",
        "for k,va in sup.items():\n",
        "  print(k[:-1], va)\n",
        "\n",
        "print('\\npref sup distances')\n",
        "print('prefixes u', pu)\n",
        "print('prefixes v', pv)\n",
        "pref_sup = {str(s):abs(multiplicity(s, pu)/mu - multiplicity(s, pv)/mv) for s in (pu + pv)}\n",
        "for k,va in pref_sup.items():\n",
        "  print(k, va)"
      ],
      "execution_count": null,
      "outputs": [
        {
          "name": "stdout",
          "output_type": "stream",
          "text": [
            "sup distances\n",
            "u ['AB$', 'AC$', 'AD$']\n",
            "v ['A$', 'AB$', 'B$', 'Z$']\n",
            "AB 0.08333333333333331\n",
            "AC 0.3333333333333333\n",
            "AD 0.3333333333333333\n",
            "A 0.25\n",
            "B 0.25\n",
            "Z 0.25\n",
            "\n",
            "pref sup distances\n",
            "prefixes u ['', 'A', 'AB', '', 'A', 'AC', '', 'A', 'AD']\n",
            "prefixes v ['', 'A', '', 'A', 'AB', '', 'B', '', 'Z']\n",
            " 0.0\n",
            "A 0.5\n",
            "AB 0.08333333333333331\n",
            "AC 0.3333333333333333\n",
            "AD 0.3333333333333333\n",
            "B 0.25\n",
            "Z 0.25\n"
          ]
        }
      ]
    },
    {
      "cell_type": "code",
      "metadata": {
        "colab": {
          "base_uri": "https://localhost:8080/"
        },
        "id": "87j_KrME3GDq",
        "outputId": "c01c2d91-315e-44a2-bde5-4164d2f38eca"
      },
      "source": [
        "prefixes(u)"
      ],
      "execution_count": null,
      "outputs": [
        {
          "data": {
            "text/plain": [
              "['', 'A', '', 'A', '', 'A']"
            ]
          },
          "execution_count": 14,
          "metadata": {},
          "output_type": "execute_result"
        }
      ]
    },
    {
      "cell_type": "code",
      "metadata": {
        "colab": {
          "base_uri": "https://localhost:8080/"
        },
        "id": "UoaWc4jA4DnN",
        "outputId": "73ab82be-b139-43a9-b0fa-186efb91917c"
      },
      "source": [
        "# probability function\n",
        "m = ['GBADCCFH', 'GACAHFGG', 'GCECEFEHAGHDC']\n",
        "\n",
        "print(probability('G', m)) # 3/3\n",
        "print(probability('GB', m)) # 1/3\n",
        "print(probability('A', m)) # 0"
      ],
      "execution_count": null,
      "outputs": [
        {
          "name": "stdout",
          "output_type": "stream",
          "text": [
            "1.0\n",
            "0.3333333333333333\n",
            "0.0\n"
          ]
        }
      ]
    },
    {
      "cell_type": "code",
      "metadata": {
        "colab": {
          "base_uri": "https://localhost:8080/"
        },
        "id": "j0RpAmn_TGm1",
        "outputId": "0c49624e-7dc7-44f7-8bb5-793e2b6834d2"
      },
      "source": [
        "alpha = ['a','b','c','d']\n",
        "mul = [['a','b','b','d'], ['a','b','a','b','c'], ['a','c','d']]\n",
        "pref = prefixes_graziano(mul)\n",
        "print(\"Multiset in esame: \",mul,end='\\n\\n')\n",
        "print(\"Considerando solo ed esclusivamente i prefixes di lunghezza 1 --- \\nVettore di prefissi risultante\\n----\")\n",
        "for p in pref:\n",
        "  print(p)\n",
        "print(\"----\\nMolteplicità di b usando pref \",pref_multiplicity('b',pref))\n",
        "#print(\"Molteplicità di b usando mult\",multiplicity('b',pref))\n",
        "print(\"Molteplicità di a usando pref \",pref_multiplicity('a',pref))\n",
        "#print(\"Molteplicità di a usando mult\",multiplicity('a',pref))\n",
        "\n",
        "\n",
        "pref = prefixes(mul)\n",
        "\n",
        "\n",
        "print(\"\\n\\nConsiderando tutti i prefixes --- \\nVettore di prefissi risultante\\n----\")\n",
        "for p in pref:\n",
        "  print(p)\n",
        "print(\"----\\nMolteplicità di b usando pref \",pref_multiplicity('b',pref))\n",
        "#print(\"Molteplicità di b usando mult\",multiplicity('b',pref))\n",
        "print(\"Molteplicità di a usando pref \",pref_multiplicity('a',pref))\n",
        "#print(\"Molteplicità di a usando mult\",multiplicity('a',pref))"
      ],
      "execution_count": null,
      "outputs": [
        {
          "name": "stdout",
          "output_type": "stream",
          "text": [
            "Multiset in esame:  [['a', 'b', 'b', 'd'], ['a', 'b', 'a', 'b', 'c'], ['a', 'c', 'd']]\n",
            "\n",
            "Considerando solo ed esclusivamente i prefixes di lunghezza 1 --- \n",
            "Vettore di prefissi risultante\n",
            "----\n",
            "a\n",
            "a\n",
            "a\n",
            "----\n",
            "Molteplicità di b usando pref  0\n",
            "Molteplicità di a usando pref  3\n",
            "\n",
            "\n",
            "Considerando tutti i prefixes --- \n",
            "Vettore di prefissi risultante\n",
            "----\n",
            "[]\n",
            "['a']\n",
            "['a', 'b']\n",
            "['a', 'b', 'b']\n",
            "['a', 'b', 'b', 'd']\n",
            "[]\n",
            "['a']\n",
            "['a', 'b']\n",
            "['a', 'b', 'a']\n",
            "['a', 'b', 'a', 'b']\n",
            "['a', 'b', 'a', 'b', 'c']\n",
            "[]\n",
            "['a']\n",
            "['a', 'c']\n",
            "['a', 'c', 'd']\n",
            "----\n",
            "Molteplicità di b usando pref  0\n",
            "Molteplicità di a usando pref  12\n"
          ]
        }
      ]
    }
  ]
}